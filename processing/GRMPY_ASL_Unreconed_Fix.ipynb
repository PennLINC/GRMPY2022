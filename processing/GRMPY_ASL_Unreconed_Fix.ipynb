{
 "cells": [
  {
   "cell_type": "code",
   "execution_count": 15,
   "metadata": {},
   "outputs": [
    {
     "name": "stderr",
     "output_type": "stream",
     "text": [
      "/Users/diegodavila/miniconda3/lib/python3.7/site-packages/flywheel/flywheel.py:5758: UserWarning: Client version 9.0.3 does not match server version 10.7.3. Please update your client version!\n",
      "  warnings.warn('Client version {} does not match server version {}. Please update your client version!'.format(SDK_VERSION, release_version))\n",
      "WARNING:Flywheel:Use \"pip install flywheel-sdk~=10.7.3\" to install a compatible version for this server\n"
     ]
    }
   ],
   "source": [
    "import sys\n",
    "sys.path.append('/Users/diegodavila/miniconda3/lib/python3.7/site-packages')\n",
    "import flywheel\n",
    "import nibabel as nb\n",
    "import os\n",
    "\n",
    "fw = flywheel.Client()\n",
    "projectContainer = fw.projects.find(\"label=GRMPY_822831\")\n",
    "projectContainer = projectContainer[0]\n",
    "sessions = projectContainer.sessions()\n",
    "subjects = projectContainer.subjects()"
   ]
  },
  {
   "cell_type": "code",
   "execution_count": 101,
   "metadata": {},
   "outputs": [],
   "source": [
    "def identify_dicomref(acq):\n",
    "    \n",
    "    asl_to_return = None\n",
    "    is_asl = False\n",
    "    \n",
    "    acq = fw.get(acq.id)\n",
    "    filelist = [x for x in acq.files if x.type in [\"nifti\"]]\n",
    "    \n",
    "    for f in filelist:\n",
    "        if \"dicomref\" in f.name:\n",
    "            asl_to_return = f\n",
    "            is_asl = True\n",
    "        else:\n",
    "            continue\n",
    "                        \n",
    "    if is_asl:\n",
    "        return asl_to_return"
   ]
  },
  {
   "cell_type": "code",
   "execution_count": 99,
   "metadata": {},
   "outputs": [
    {
     "data": {
      "text/plain": [
       "'12.dicom.zip'"
      ]
     },
     "execution_count": 99,
     "metadata": {},
     "output_type": "execute_result"
    }
   ],
   "source": [
    "sessions[177].acquisitions()[12].files[4].name"
   ]
  },
  {
   "cell_type": "code",
   "execution_count": 102,
   "metadata": {},
   "outputs": [
    {
     "data": {
      "text/plain": [
       "[None,\n",
       " None,\n",
       " None,\n",
       " None,\n",
       " None,\n",
       " None,\n",
       " None,\n",
       " None,\n",
       " None,\n",
       " None,\n",
       " None,\n",
       " None,\n",
       " {'classification': {'Measurement': ['Perfusion'], 'measurement': ['Perfusion']},\n",
       "  'created': datetime.datetime(2019, 2, 27, 8, 0, 47, 14000, tzinfo=tzutc()),\n",
       "  'hash': 'v0-sha384-1e62c1861bfa7f78b7bd5f5ae316dabf0a023c09f02fcaf860c6c9fe87503cde45dbba385341ae278274ba65bd2804fd',\n",
       "  'id': '57f4b610-788e-4331-8c10-203d42547ae3',\n",
       "  'info': {'AcquisitionDateTime': '2016-05-26T12:51:32.067500',\n",
       "           'AcquisitionMatrixPE': 64,\n",
       "           'AcquisitionNumber': 1,\n",
       "           'AcquisitionTime': '12:51:32.067500',\n",
       "           'BIDS': {'Acq': 'ref',\n",
       "                    'Ce': '',\n",
       "                    'Dir': '',\n",
       "                    'Echo': '',\n",
       "                    'Filename': 'sub-88608_ses-10165_acq-ref_asl.nii.gz',\n",
       "                    'Folder': 'asl',\n",
       "                    'IntendedFor': '',\n",
       "                    'Mod': '',\n",
       "                    'Modality': '',\n",
       "                    'Path': 'sub-88608/ses-10165/asl',\n",
       "                    'Rec': '',\n",
       "                    'Run': '',\n",
       "                    'Task': '',\n",
       "                    'error_message': '',\n",
       "                    'ignore': True,\n",
       "                    'template': '',\n",
       "                    'valid': True},\n",
       "           'BandwidthPerPixelPhaseEncode': 28.409,\n",
       "           'BaseResolution': 64,\n",
       "           'BodyPartExamined': 'BRAIN',\n",
       "           'ConsistencyInfo': 'N4_VD13D_LATEST_20130810',\n",
       "           'ConversionSoftware': 'dcm2niix',\n",
       "           'ConversionSoftwareVersion': 'v1.0.20180918  (JP2:OpenJPEG) GCC4.8.4',\n",
       "           'DeidentificationMethod': 'Penn_BSC_profile_v1.0',\n",
       "           'DerivedVendorReportedEchoSpacing': 0.000550002,\n",
       "           'DeviceSerialNumber': '66044',\n",
       "           'EchoTime': 0.032,\n",
       "           'EchoTrainLength': 64,\n",
       "           'EffectiveEchoSpacing': 0.000550002,\n",
       "           'FlipAngle': 30,\n",
       "           'ImageOrientationPatientDICOM': [1, 0, 0, 0, 1, 0],\n",
       "           'ImageType': ['ORIGINAL', 'PRIMARY', 'M', 'ND', 'NORM', 'MOSAIC'],\n",
       "           'InPlanePhaseEncodingDirectionDICOM': 'COL',\n",
       "           'InstitutionAddress': 'Curie_Blvd._422_Philadelphia_PA_US_19104',\n",
       "           'InstitutionName': 'SC3T',\n",
       "           'MRAcquisitionType': '2D',\n",
       "           'MagneticFieldStrength': 3,\n",
       "           'Manufacturer': 'Siemens',\n",
       "           'ManufacturersModelName': 'Prisma',\n",
       "           'Modality': 'MR',\n",
       "           'PartialFourier': 1,\n",
       "           'PatientPosition': 'HFS',\n",
       "           'PatientSex': 'M',\n",
       "           'PercentPhaseFOV': 100,\n",
       "           'PhaseEncodingDirection': 'j-',\n",
       "           'PhaseEncodingSteps': 64,\n",
       "           'PhaseResolution': 1,\n",
       "           'PixelBandwidth': 2055,\n",
       "           'ProcedureStepDescription': 'CAMRIS_Satterthwaite',\n",
       "           'ProtocolName': 'ASL_dicomref',\n",
       "           'PulseSequenceDetails': '%CustomerSeq%_cmrr_mbep2d_bold',\n",
       "           'ReceiveCoilActiveElements': 'HC1-7',\n",
       "           'ReceiveCoilName': 'HeadNeck_64',\n",
       "           'ReconMatrixPE': 64,\n",
       "           'RepetitionTime': 3,\n",
       "           'SAR': 0.0222557,\n",
       "           'ScanOptions': 'FS',\n",
       "           'ScanningSequence': 'EP',\n",
       "           'SequenceName': 'epfid2d1_64',\n",
       "           'SequenceVariant': 'SK_SS',\n",
       "           'SeriesDescription': 'ASL_dicomref',\n",
       "           'SeriesInstanceUID': '1.3.12.2.1107.5.2.43.66044.2016052612512940284157752.0.0.0',\n",
       "           'SeriesNumber': 12,\n",
       "           'ShimSetting': [3793, 2655, 466, 283, -121, -225, 34, 46],\n",
       "           'SliceThickness': 3.75,\n",
       "           'SliceTiming': [1.49,\n",
       "                           0,\n",
       "                           1.5825,\n",
       "                           0.0925,\n",
       "                           1.675,\n",
       "                           0.185,\n",
       "                           1.7675,\n",
       "                           0.2775,\n",
       "                           1.8625,\n",
       "                           0.3725,\n",
       "                           1.955,\n",
       "                           0.465,\n",
       "                           2.0475,\n",
       "                           0.5575,\n",
       "                           2.14,\n",
       "                           0.65,\n",
       "                           2.235,\n",
       "                           0.745,\n",
       "                           2.3275,\n",
       "                           0.8375,\n",
       "                           2.42,\n",
       "                           0.93,\n",
       "                           2.5125,\n",
       "                           1.0225,\n",
       "                           2.6075,\n",
       "                           1.1175,\n",
       "                           2.7,\n",
       "                           1.21,\n",
       "                           2.7925,\n",
       "                           1.3025,\n",
       "                           2.885,\n",
       "                           1.395],\n",
       "           'SoftwareVersions': 'syngo_MR_D13D',\n",
       "           'SpacingBetweenSlices': 3.75,\n",
       "           'StationName': 'AWP66044',\n",
       "           'StudyID': '1',\n",
       "           'StudyInstanceUID': '1.3.12.2.1107.5.2.43.66044.30000016052515021788200000025',\n",
       "           'TotalReadoutTime': 0.0346501,\n",
       "           'TxRefAmp': 276.052,\n",
       "           'WipMemBlock': '4ea777b3-365e-4b6b-8d1d-6b1c68022fb9||Sequence: '\n",
       "                          'vd13d/master r/f9db0a8; Dec 14 2015 17:01:19 by eja'},\n",
       "  'info_exists': None,\n",
       "  'mimetype': 'application/octet-stream',\n",
       "  'modality': 'MR',\n",
       "  'modified': datetime.datetime(2019, 11, 8, 20, 59, 27, 964000, tzinfo=tzutc()),\n",
       "  'name': 'ASL_dicomref_12.nii.gz',\n",
       "  'origin': {'id': '5c764349ba2580002e38f44a',\n",
       "             'method': None,\n",
       "             'name': None,\n",
       "             'type': 'job',\n",
       "             'via': None},\n",
       "  'replaced': None,\n",
       "  'size': 197036,\n",
       "  'tags': [],\n",
       "  'type': 'nifti',\n",
       "  'zip_member_count': None},\n",
       " None,\n",
       " None,\n",
       " None]"
      ]
     },
     "execution_count": 102,
     "metadata": {},
     "output_type": "execute_result"
    }
   ],
   "source": [
    "asl_list = [identify_dicomref(x) for x in sessions[177].acquisitions()]\n",
    "asl_list"
   ]
  },
  {
   "cell_type": "code",
   "execution_count": null,
   "metadata": {},
   "outputs": [],
   "source": []
  },
  {
   "cell_type": "code",
   "execution_count": 103,
   "metadata": {},
   "outputs": [],
   "source": [
    "def get_asl(sess):\n",
    "    acs = sess.acquisitions()\n",
    "    asl_list = [identify_dicomref(x) for x in acs]\n",
    "    asl_list = [i for i in asl_list if i]\n",
    "    if len(asl_list) >= 1:\n",
    "        return asl_list[0]\n",
    "    else:\n",
    "        return None"
   ]
  },
  {
   "cell_type": "code",
   "execution_count": 108,
   "metadata": {},
   "outputs": [
    {
     "data": {
      "text/plain": [
       "{'classification': {'Measurement': ['Perfusion'], 'measurement': ['Perfusion']},\n",
       " 'created': datetime.datetime(2019, 2, 27, 8, 0, 47, 14000, tzinfo=tzutc()),\n",
       " 'hash': 'v0-sha384-1e62c1861bfa7f78b7bd5f5ae316dabf0a023c09f02fcaf860c6c9fe87503cde45dbba385341ae278274ba65bd2804fd',\n",
       " 'id': '57f4b610-788e-4331-8c10-203d42547ae3',\n",
       " 'info': {'AcquisitionDateTime': '2016-05-26T12:51:32.067500',\n",
       "          'AcquisitionMatrixPE': 64,\n",
       "          'AcquisitionNumber': 1,\n",
       "          'AcquisitionTime': '12:51:32.067500',\n",
       "          'BIDS': {'Acq': 'ref',\n",
       "                   'Ce': '',\n",
       "                   'Dir': '',\n",
       "                   'Echo': '',\n",
       "                   'Filename': 'sub-88608_ses-10165_acq-ref_asl.nii.gz',\n",
       "                   'Folder': 'asl',\n",
       "                   'IntendedFor': '',\n",
       "                   'Mod': '',\n",
       "                   'Modality': '',\n",
       "                   'Path': 'sub-88608/ses-10165/asl',\n",
       "                   'Rec': '',\n",
       "                   'Run': '',\n",
       "                   'Task': '',\n",
       "                   'error_message': '',\n",
       "                   'ignore': True,\n",
       "                   'template': '',\n",
       "                   'valid': True},\n",
       "          'BandwidthPerPixelPhaseEncode': 28.409,\n",
       "          'BaseResolution': 64,\n",
       "          'BodyPartExamined': 'BRAIN',\n",
       "          'ConsistencyInfo': 'N4_VD13D_LATEST_20130810',\n",
       "          'ConversionSoftware': 'dcm2niix',\n",
       "          'ConversionSoftwareVersion': 'v1.0.20180918  (JP2:OpenJPEG) GCC4.8.4',\n",
       "          'DeidentificationMethod': 'Penn_BSC_profile_v1.0',\n",
       "          'DerivedVendorReportedEchoSpacing': 0.000550002,\n",
       "          'DeviceSerialNumber': '66044',\n",
       "          'EchoTime': 0.032,\n",
       "          'EchoTrainLength': 64,\n",
       "          'EffectiveEchoSpacing': 0.000550002,\n",
       "          'FlipAngle': 30,\n",
       "          'ImageOrientationPatientDICOM': [1, 0, 0, 0, 1, 0],\n",
       "          'ImageType': ['ORIGINAL', 'PRIMARY', 'M', 'ND', 'NORM', 'MOSAIC'],\n",
       "          'InPlanePhaseEncodingDirectionDICOM': 'COL',\n",
       "          'InstitutionAddress': 'Curie_Blvd._422_Philadelphia_PA_US_19104',\n",
       "          'InstitutionName': 'SC3T',\n",
       "          'MRAcquisitionType': '2D',\n",
       "          'MagneticFieldStrength': 3,\n",
       "          'Manufacturer': 'Siemens',\n",
       "          'ManufacturersModelName': 'Prisma',\n",
       "          'Modality': 'MR',\n",
       "          'PartialFourier': 1,\n",
       "          'PatientPosition': 'HFS',\n",
       "          'PatientSex': 'M',\n",
       "          'PercentPhaseFOV': 100,\n",
       "          'PhaseEncodingDirection': 'j-',\n",
       "          'PhaseEncodingSteps': 64,\n",
       "          'PhaseResolution': 1,\n",
       "          'PixelBandwidth': 2055,\n",
       "          'ProcedureStepDescription': 'CAMRIS_Satterthwaite',\n",
       "          'ProtocolName': 'ASL_dicomref',\n",
       "          'PulseSequenceDetails': '%CustomerSeq%_cmrr_mbep2d_bold',\n",
       "          'ReceiveCoilActiveElements': 'HC1-7',\n",
       "          'ReceiveCoilName': 'HeadNeck_64',\n",
       "          'ReconMatrixPE': 64,\n",
       "          'RepetitionTime': 3,\n",
       "          'SAR': 0.0222557,\n",
       "          'ScanOptions': 'FS',\n",
       "          'ScanningSequence': 'EP',\n",
       "          'SequenceName': 'epfid2d1_64',\n",
       "          'SequenceVariant': 'SK_SS',\n",
       "          'SeriesDescription': 'ASL_dicomref',\n",
       "          'SeriesInstanceUID': '1.3.12.2.1107.5.2.43.66044.2016052612512940284157752.0.0.0',\n",
       "          'SeriesNumber': 12,\n",
       "          'ShimSetting': [3793, 2655, 466, 283, -121, -225, 34, 46],\n",
       "          'SliceThickness': 3.75,\n",
       "          'SliceTiming': [1.49,\n",
       "                          0,\n",
       "                          1.5825,\n",
       "                          0.0925,\n",
       "                          1.675,\n",
       "                          0.185,\n",
       "                          1.7675,\n",
       "                          0.2775,\n",
       "                          1.8625,\n",
       "                          0.3725,\n",
       "                          1.955,\n",
       "                          0.465,\n",
       "                          2.0475,\n",
       "                          0.5575,\n",
       "                          2.14,\n",
       "                          0.65,\n",
       "                          2.235,\n",
       "                          0.745,\n",
       "                          2.3275,\n",
       "                          0.8375,\n",
       "                          2.42,\n",
       "                          0.93,\n",
       "                          2.5125,\n",
       "                          1.0225,\n",
       "                          2.6075,\n",
       "                          1.1175,\n",
       "                          2.7,\n",
       "                          1.21,\n",
       "                          2.7925,\n",
       "                          1.3025,\n",
       "                          2.885,\n",
       "                          1.395],\n",
       "          'SoftwareVersions': 'syngo_MR_D13D',\n",
       "          'SpacingBetweenSlices': 3.75,\n",
       "          'StationName': 'AWP66044',\n",
       "          'StudyID': '1',\n",
       "          'StudyInstanceUID': '1.3.12.2.1107.5.2.43.66044.30000016052515021788200000025',\n",
       "          'TotalReadoutTime': 0.0346501,\n",
       "          'TxRefAmp': 276.052,\n",
       "          'WipMemBlock': '4ea777b3-365e-4b6b-8d1d-6b1c68022fb9||Sequence: '\n",
       "                         'vd13d/master r/f9db0a8; Dec 14 2015 17:01:19 by eja'},\n",
       " 'info_exists': None,\n",
       " 'mimetype': 'application/octet-stream',\n",
       " 'modality': 'MR',\n",
       " 'modified': datetime.datetime(2019, 11, 8, 20, 59, 27, 964000, tzinfo=tzutc()),\n",
       " 'name': 'ASL_dicomref_12.nii.gz',\n",
       " 'origin': {'id': '5c764349ba2580002e38f44a',\n",
       "            'method': None,\n",
       "            'name': None,\n",
       "            'type': 'job',\n",
       "            'via': None},\n",
       " 'replaced': None,\n",
       " 'size': 197036,\n",
       " 'tags': [],\n",
       " 'type': 'nifti',\n",
       " 'zip_member_count': None}"
      ]
     },
     "execution_count": 108,
     "metadata": {},
     "output_type": "execute_result"
    }
   ],
   "source": [
    "q = get_asl(sessions[177])\n",
    "if q != None:\n",
    "    sessions[177].download_file(q.name,\"\")"
   ]
  },
  {
   "cell_type": "code",
   "execution_count": null,
   "metadata": {},
   "outputs": [],
   "source": []
  },
  {
   "cell_type": "code",
   "execution_count": null,
   "metadata": {},
   "outputs": [],
   "source": []
  },
  {
   "cell_type": "code",
   "execution_count": 1,
   "metadata": {},
   "outputs": [
    {
     "name": "stderr",
     "output_type": "stream",
     "text": [
      "/Users/adebimpe/opt/miniconda3/lib/python3.7/site-packages/dicom/__init__.py:53: UserWarning: \n",
      "This code is using an older version of pydicom, which is no longer \n",
      "maintained as of Jan 2017.  You can access the new pydicom features and API \n",
      "by installing `pydicom` from PyPI.\n",
      "See 'Transitioning to pydicom 1.x' section at pydicom.readthedocs.org \n",
      "for more information.\n",
      "\n",
      "  warnings.warn(msg)\n"
     ]
    }
   ],
   "source": [
    "\n",
    "file=nb.load('86924_20160119x10035.nii.gz')"
   ]
  },
  {
   "cell_type": "code",
   "execution_count": 2,
   "metadata": {},
   "outputs": [
    {
     "data": {
      "text/plain": [
       "<nibabel.nifti1.Nifti1Image at 0x1128bde10>"
      ]
     },
     "execution_count": 2,
     "metadata": {},
     "output_type": "execute_result"
    }
   ],
   "source": [
    "file"
   ]
  },
  {
   "cell_type": "code",
   "execution_count": 3,
   "metadata": {},
   "outputs": [
    {
     "data": {
      "text/plain": [
       "(64, 64, 32, 82)"
      ]
     },
     "execution_count": 3,
     "metadata": {},
     "output_type": "execute_result"
    }
   ],
   "source": [
    "data1=file.get_data()\n",
    "data1.shape"
   ]
  },
  {
   "cell_type": "code",
   "execution_count": 23,
   "metadata": {},
   "outputs": [],
   "source": [
    "asl=data1[:,:,:,0:80]\n",
    "m0=data1[:,:,:,80:82]"
   ]
  },
  {
   "cell_type": "code",
   "execution_count": 25,
   "metadata": {},
   "outputs": [],
   "source": [
    "aslfile=nb.Nifti1Image(dataobj=asl,header=file.header,affine=file.affine)\n",
    "mofile=nb.Nifti1Image(dataobj=m0,header=file.header,affine=file.affine)"
   ]
  },
  {
   "cell_type": "code",
   "execution_count": 26,
   "metadata": {},
   "outputs": [],
   "source": [
    "nb.save(aslfile,filename='aslfile.nii.gz')\n",
    "nb.save(mofile,filename='m0.nii.gz')"
   ]
  },
  {
   "cell_type": "code",
   "execution_count": null,
   "metadata": {},
   "outputs": [],
   "source": []
  },
  {
   "cell_type": "code",
   "execution_count": null,
   "metadata": {},
   "outputs": [],
   "source": []
  }
 ],
 "metadata": {
  "kernelspec": {
   "display_name": "Python 3",
   "language": "python",
   "name": "python3"
  },
  "language_info": {
   "codemirror_mode": {
    "name": "ipython",
    "version": 3
   },
   "file_extension": ".py",
   "mimetype": "text/x-python",
   "name": "python",
   "nbconvert_exporter": "python",
   "pygments_lexer": "ipython3",
   "version": "3.7.1"
  }
 },
 "nbformat": 4,
 "nbformat_minor": 4
}
