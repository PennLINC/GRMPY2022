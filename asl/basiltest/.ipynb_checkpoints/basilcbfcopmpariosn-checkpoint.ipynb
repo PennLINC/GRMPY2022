{
 "cells": [
  {
   "cell_type": "markdown",
   "metadata": {},
   "source": [
    "# BASIL and CBF comparison\n"
   ]
  },
  {
   "cell_type": "markdown",
   "metadata": {},
   "source": [
    "## compile the qulaity metrics  and get the rms motion and age"
   ]
  },
  {
   "cell_type": "code",
   "execution_count": 1,
   "metadata": {},
   "outputs": [
    {
     "data": {
      "text/html": [
       "'number of subject for CBF: 89'"
      ],
      "text/latex": [
       "'number of subject for CBF: 89'"
      ],
      "text/markdown": [
       "'number of subject for CBF: 89'"
      ],
      "text/plain": [
       "[1] \"number of subject for CBF: 89\""
      ]
     },
     "metadata": {},
     "output_type": "display_data"
    },
    {
     "data": {
      "text/html": [
       "'number of subject for BASIL: 92'"
      ],
      "text/latex": [
       "'number of subject for BASIL: 92'"
      ],
      "text/markdown": [
       "'number of subject for BASIL: 92'"
      ],
      "text/plain": [
       "[1] \"number of subject for BASIL: 92\""
      ]
     },
     "metadata": {},
     "output_type": "display_data"
    },
    {
     "data": {
      "text/html": [
       "89"
      ],
      "text/latex": [
       "89"
      ],
      "text/markdown": [
       "89"
      ],
      "text/plain": [
       "[1] 89"
      ]
     },
     "metadata": {},
     "output_type": "display_data"
    },
    {
     "data": {
      "text/html": [
       "92"
      ],
      "text/latex": [
       "92"
      ],
      "text/markdown": [
       "92"
      ],
      "text/plain": [
       "[1] 92"
      ]
     },
     "metadata": {},
     "output_type": "display_data"
    },
    {
     "name": "stderr",
     "output_type": "stream",
     "text": [
      "Warning message in write.csv(grcbf, \"grcbf_cov.csv\", quote = F, col.names = F, row.names = F):\n",
      "“attempt to set 'col.names' ignored”Warning message in write.csv(pncbf, \"pncbf_cov.csv\", quote = F, col.names = F, row.names = F):\n",
      "“attempt to set 'col.names' ignored”Warning message in write.csv(grbas, \"grbas_cov.csv\", quote = F, col.names = F, row.names = F):\n",
      "“attempt to set 'col.names' ignored”Warning message in write.csv(pnbas, \"pnbas_cov.csv\", quote = F, col.names = F, row.names = F):\n",
      "“attempt to set 'col.names' ignored”"
     ]
    }
   ],
   "source": [
    "# read the all the QVARS\n",
    "GRCBF=read.csv('GRMPYCBF_QAVARS.csv')\n",
    "GRBAS=read.csv('GRMPYBASIL_QAVARS.csv')\n",
    "\n",
    "PNCCBF=read.csv('PNCCBF_QAVARS.csv')\n",
    "PNCBAS=read.csv('PNCBASIL_QAVARS.csv')\n",
    "\n",
    "#merge the two files by bblid and remove duplicate \n",
    "GRPNCCBF=merge(GRCBF,PNCCBF,by = 'bblid',all.x=T); GRPNCCBF=GRPNCCBF[!duplicated(GRPNCCBF$bblid), ]\n",
    "GRPNCCBF=na.omit(GRPNCCBF); paste0(\"number of subject for CBF: \", nrow(GRPNCCBF))\n",
    "GRPNCBAS=merge(GRBAS,PNCBAS,by = 'bblid',all.x=T); GRPNCBAS=GRPNCBAS[!duplicated(GRPNCBAS$bblid), ]\n",
    "GRPNCBAS=na.omit(GRPNCBAS); paste0(\"number of subject for BASIL: \", nrow(GRPNCBAS))\n",
    "\n",
    "# get the age and sex from kayla csv\n",
    "demo=read.csv('/data/jux/BBL/studies/grmpy/processedPsycha1/demographics_20180803.csv')\n",
    "GRPNCCBF_1=merge(GRPNCCBF,demo,by='bblid',all.x=T)\n",
    "GRPNCBAS_1=merge(GRPNCBAS,demo,by='bblid',all.x=T)\n",
    "#head(GRPNCCBF_1)\n",
    "\n",
    "\n",
    "#select the data needed \n",
    "GRPNC_CBF=data.frame(bblid=GRPNCCBF_1$bblid,GRscanid=GRPNCCBF_1$scanid.x,PNscanid=GRPNCCBF_1$scanid.y,GRRMSmotion=GRPNCCBF_1$relMeanRMSMotion.x,\n",
    "                     PNRMSmotion=GRPNCCBF_1$relMeanRMSMotion.y,sex=GRPNCCBF_1$sex,age=GRPNCCBF_1$visitageyears)\n",
    "\n",
    "GRPNC_BAS=data.frame(bblid=GRPNCBAS_1$bblid,GRscanid=GRPNCBAS_1$scanid.x,PNscanid=GRPNCBAS_1$scanid.y,GRRMSmotion=GRPNCBAS_1$relMeanRMSMotion.x,\n",
    "                     PNRMSmotion=GRPNCBAS_1$relMeanRMSMotion.y,sex=GRPNCBAS_1$sex,age=GRPNCBAS_1$visitageyears)\n",
    "nrow(GRPNC_CBF)\n",
    "nrow(GRPNC_BAS)\n",
    "\n",
    "# write covariate for flameo for each file\n",
    "grcbf=cbind(rep(1,nrow(GRPNC_CBF)),GRPNC_CBF$GRRMSmotion,GRPNC_CBF$age); write.csv(grcbf,'grcbf_cov.csv',quote=F,col.names=F,row.names=F)\n",
    "pncbf=cbind(rep(1,nrow(GRPNC_CBF)),GRPNC_CBF$PNRMSmotion,GRPNC_CBF$age); write.csv(pncbf,'pncbf_cov.csv',quote=F,col.names=F,row.names=F)\n",
    "grbas=cbind(rep(1,nrow(GRPNC_BAS)),GRPNC_BAS$GRRMSmotion,GRPNC_BAS$age); write.csv(grbas,'grbas_cov.csv',quote=F,col.names=F,row.names=F)\n",
    "pnbas=cbind(rep(1,nrow(GRPNC_BAS)),GRPNC_BAS$PNRMSmotion,GRPNC_BAS$age); write.csv(pnbas,'pnbas_cov.csv',quote=F,col.names=F,row.names=F)\n",
    "\n",
    "# writeout the cbf and bas bblid for order of merging nifiti files\n",
    "library(data.table)\n",
    "write.table(GRPNC_CBF$bblid,'cbfbblid.txt', sep = \"\\t\",row.names = FALSE, col.names = FALSE)\n",
    "write.table(GRPNC_BAS$bblid,'basbblid.txt', sep = \"\\t\",row.names = FALSE, col.names = FALSE)\n",
    "\n",
    "\n"
   ]
  },
  {
   "cell_type": "code",
   "execution_count": null,
   "metadata": {},
   "outputs": [],
   "source": []
  }
 ],
 "metadata": {
  "kernelspec": {
   "display_name": "R",
   "language": "R",
   "name": "ir"
  },
  "language_info": {
   "codemirror_mode": "r",
   "file_extension": ".r",
   "mimetype": "text/x-r-source",
   "name": "R",
   "pygments_lexer": "r",
   "version": "3.4.1"
  }
 },
 "nbformat": 4,
 "nbformat_minor": 2
}
