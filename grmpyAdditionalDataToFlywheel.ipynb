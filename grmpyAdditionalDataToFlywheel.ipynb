{
 "cells": [
  {
   "cell_type": "markdown",
   "metadata": {},
   "source": [
    "## Before You Upload"
   ]
  },
  {
   "cell_type": "markdown",
   "metadata": {},
   "source": [
    "First, install Python on your machine. You can follow this link to do so: https://www.python.org/downloads/"
   ]
  },
  {
   "cell_type": "markdown",
   "metadata": {},
   "source": [
    "Then, make sure you have the python flywheel sdk installed on your machine.\n",
    "   \n",
    "If you don't have it installed, see the link below for instructions on how to do so:\n",
    "\n",
    "https://flywheel-io.github.io/core/branches/master/python/getting_started.html\n",
    " "
   ]
  },
  {
   "cell_type": "markdown",
   "metadata": {},
   "source": [
    "*note: If pip install gives you trouble, you can install minicoda and run conda install instead. Link to miniconda install: https://docs.conda.io/en/latest/miniconda.html"
   ]
  },
  {
   "cell_type": "markdown",
   "metadata": {},
   "source": [
    "### NEUROEC     "
   ]
  },
  {
   "cell_type": "markdown",
   "metadata": {},
   "source": [
    "   Before uploading, make sure you've done the following:\n",
    "      1. Designated the correct subjectID and sessionID on flywheel\n",
    "      2. Compressed all of the neuroec files into a .zip named neuroec.zip located in the neuroec folder\n",
    "         on monstrum for this particular subject"
   ]
  },
  {
   "cell_type": "markdown",
   "metadata": {},
   "source": [
    "   Once you've done the above 2 steps, run this (note replace the\n",
    "   bracketed with the respective info before running):"
   ]
  },
  {
   "cell_type": "code",
   "execution_count": null,
   "metadata": {},
   "outputs": [],
   "source": [
    "fw upload bbl/GRMPY_822831/[bblid]/[scanid] /Volumes/LUCKY3/grmpy/subjects/[bblid_scanid]/behavioral/neuroec/neuroec.zip"
   ]
  },
  {
   "cell_type": "markdown",
   "metadata": {},
   "source": [
    "This will add the compressed neuroec file to the attachments section for this subject on flywheel"
   ]
  },
  {
   "cell_type": "markdown",
   "metadata": {},
   "source": [
    "### PMU"
   ]
  },
  {
   "cell_type": "markdown",
   "metadata": {},
   "source": [
    "   Before uploading, make sure you've done the following:\n",
    "      1. Designated the correct subjectID and sessionID on flywheel\n",
    "      2. Compressed all of the PMU files into a .zip named ALL_PMU.zip located in the pmu folder\n",
    "         on monstrum for this particular subject"
   ]
  },
  {
   "cell_type": "markdown",
   "metadata": {},
   "source": [
    "Once you've done the above 2 steps, run this (note replace the bracketed with the respective info before running):"
   ]
  },
  {
   "cell_type": "code",
   "execution_count": null,
   "metadata": {},
   "outputs": [],
   "source": [
    "fw upload bbl/GRMPY_822831/[bblid]/[scanid] /Volumes/LUCKY3/grmpy/subjects/[bblid_scanid]/pmu/ALL_PMU.zip"
   ]
  },
  {
   "cell_type": "markdown",
   "metadata": {},
   "source": [
    "This will add the compressed pmu file to the attachments section for this subject on flywheel"
   ]
  },
  {
   "cell_type": "markdown",
   "metadata": {},
   "source": [
    "### FracBack Logfiles"
   ]
  },
  {
   "cell_type": "markdown",
   "metadata": {},
   "source": [
    "   Before uploading, make sure you've done the following:\n",
    "      1. Designated the correct subjectID and sessionID on flywheel\n",
    "      2. Placed the logfile into the scannerTask folder on monstrum for this particular subject"
   ]
  },
  {
   "cell_type": "markdown",
   "metadata": {},
   "source": [
    "Once you've done the above 2 steps, run this (note replace the bracketed with the respective info before running):"
   ]
  },
  {
   "cell_type": "code",
   "execution_count": null,
   "metadata": {},
   "outputs": [],
   "source": [
    "fw upload bbl/GRMPY_822831/[bblid]/[scanid]/bbl1_fracback1_231mb /Volumes/LUCKY3/grmpy/subjects/[bblid_scanid]/behavioral/scannerTasks/[bblid]-frac2B_1.00.log"
   ]
  },
  {
   "cell_type": "markdown",
   "metadata": {},
   "source": [
    "This will attach the logfile file to the bbl1_fracback1_231mb sequence for this subject on flywheel"
   ]
  }
 ],
 "metadata": {
  "kernelspec": {
   "display_name": "Python 3",
   "language": "python",
   "name": "python3"
  },
  "language_info": {
   "codemirror_mode": {
    "name": "ipython",
    "version": 3
   },
   "file_extension": ".py",
   "mimetype": "text/x-python",
   "name": "python",
   "nbconvert_exporter": "python",
   "pygments_lexer": "ipython3",
   "version": "3.7.1"
  }
 },
 "nbformat": 4,
 "nbformat_minor": 2
}
